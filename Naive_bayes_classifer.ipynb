{
 "cells": [
  {
   "cell_type": "code",
   "execution_count": 2,
   "metadata": {
    "collapsed": true
   },
   "outputs": [],
   "source": [
    "#import Dependencies\n",
    "import csv\n",
    "import numpy as np\n",
    "import matplotlib.pyplot as plt\n",
    "import pandas as pd\n",
    "from matplotlib import pylab,pyplot\n",
    "from functools import reduce\n",
    "from pylab import *"
   ]
  },
  {
   "cell_type": "code",
   "execution_count": 3,
   "metadata": {
    "collapsed": true
   },
   "outputs": [],
   "source": [
    "# create two empty list for get_data as yes and no:\n",
    "yes=[] # contain yes\n",
    "no=[]  # contain no\n",
    "label=[]\n",
    "n=0    # contain no class in dataset"
   ]
  },
  {
   "cell_type": "code",
   "execution_count": 4,
   "metadata": {
    "collapsed": true
   },
   "outputs": [],
   "source": [
    "def get_data(filename):\n",
    "    global n   # make n as global variable\n",
    "    with open(filename,'r') as csvfile:\n",
    "        csvFileReader=csv.reader(csvfile)\n",
    "        next(csvFileReader)\n",
    "        for row in csvFileReader:\n",
    "            no.append(float(row[2]))\n",
    "            yes.append(float(row[1]))\n",
    "            label.append(str(row[0]))\n",
    "            n+=1\n",
    "    return"
   ]
  },
  {
   "cell_type": "code",
   "execution_count": 6,
   "metadata": {
    "collapsed": true
   },
   "outputs": [],
   "source": [
    "\n",
    "# Define all the variabel which store the result: \n",
    "\n",
    "probabiltyOfyes=0.0  # probability of yes p(yes)\n",
    "probabiltyOfno=0.0   # probabilty of no p(no)\n",
    "probOflabel=[]       # probablity of label p ( label[i] ) for each labels\n",
    "probOfLabelYes=[]    # probability  p ( label[i] | yes)\n",
    "probOfLabelNo=[]     # probability  p ( label[i] | No)\n",
    "probOfYesLabel=[]    # probability  p (yes |label[i])\n",
    "probOfNoLabel=[]     # probability of  p (no | label[i])\n",
    "\n",
    "# as the output of NaiveBayes :\n",
    "# P(Yes | label) = P( label | Yes) * P(Yes) / P (label) \n"
   ]
  },
  {
   "cell_type": "code",
   "execution_count": 7,
   "metadata": {
    "collapsed": true
   },
   "outputs": [],
   "source": [
    "def dataframe(src):\n",
    "    data=pd.read_csv(src)\n",
    "    return data"
   ]
  },
  {
   "cell_type": "code",
   "execution_count": 8,
   "metadata": {
    "collapsed": true
   },
   "outputs": [],
   "source": [
    "\n",
    "def NaiveBayes(src):\n",
    "    get_data(src)\n",
    "    global probabiltyOfyes\n",
    "    global probabiltyOfno\n",
    "    yestotal=reduce(lambda x,y:x+y , yes)\n",
    "    nototal=reduce(lambda x,y:x+y, no)\n",
    "    total=yestotal+nototal\n",
    "    probabiltyOfyes=(yestotal/total) # probability of yes p(yes)\n",
    "    probabiltyOfno=(nototal/total)   # probabilty of no p(no)\n",
    "    for i in range(n):\n",
    "        probOflabel.append((yes[i]+no[i])/total)\n",
    "    \n",
    "    for i in range(n): \n",
    "        probOfLabelYes.append(yes[i]/yestotal)\n",
    "\n",
    "    for i in range(n):\n",
    "        probOfLabelNo.append(no[i]/nototal)\n",
    "        \n",
    "    for i in range(n):\n",
    "        probOfYesLabel.append((probOfLabelYes[i]*probabiltyOfyes)/probOflabel[i])\n",
    "\n",
    "    for i in range(n):\n",
    "        probOfNoLabel.append((probOfLabelNo[i]*probabiltyOfno)/probOflabel[i])\n",
    "    \n",
    "    return "
   ]
  },
  {
   "cell_type": "code",
   "execution_count": 9,
   "metadata": {},
   "outputs": [
    {
     "name": "stdout",
     "output_type": "stream",
     "text": [
      "    label       yes        no\n",
      "0     BJP  13464.18  26829.82\n",
      "1  SP+INC  13090.13  27203.87\n",
      "2     BSP   9265.45  31028.55\n",
      "3  Others   4474.24  35819.20\n",
      " \n",
      "p(yes) : 0.25000086861869275\n",
      "p(no) : 0.7499991313813072\n",
      "p(label) : [0.25000086861869275, 0.25000086861869275, 0.25000086861869275, 0.24999739414392164]\n",
      "p(label|yes) : [0.3341485084627985, 0.32486548865836107, 0.22994614582816306, 0.11103985705067754]\n",
      "p(label|no) : [0.22195152539546187, 0.2250458796652323, 0.2566858071842956, 0.2963167877550102]\n",
      "p(yes|label) : [0.3341485084627985, 0.32486548865836107, 0.22994614582816306, 0.11104140028749099]\n",
      "p(no|label) : [0.6658514915372017, 0.675134511341639, 0.7700538541718371, 0.8889585997125092]\n"
     ]
    }
   ],
   "source": [
    "\n",
    "src='test.csv' # set the path where the csv file is located\n",
    "\n",
    "NaiveBayes(src)\n",
    "print(dataframe(src))\n",
    "print(\" \")\n",
    "print(\"p(yes) : \"+ str(probabiltyOfyes))  # probability of yes p(yes)\n",
    "print(\"p(no) : \"+ str(probabiltyOfno))   # probabilty of no p(no)\n",
    "print(\"p(label) : \" + str(probOflabel))       # probablity of label p ( label[i] ) for each labels\n",
    "print(\"p(label|yes) : \"+ str(probOfLabelYes))    # probability  p ( label[i] | yes)\n",
    "print(\"p(label|no) : \"+ str(probOfLabelNo))     # probability  p ( label[i] | No)\n",
    "print(\"p(yes|label) : \"+ str(probOfYesLabel))    # probability  p (yes |label[i])\n",
    "print(\"p(no|label) : \"+ str(probOfNoLabel)) \n"
   ]
  },
  {
   "cell_type": "code",
   "execution_count": 10,
   "metadata": {
    "collapsed": true
   },
   "outputs": [],
   "source": [
    "# make a square figure and axes\n",
    "figure(1, figsize=(6,6))\n",
    "ax = axes([0.1, 0.1, 0.8, 0.8])"
   ]
  },
  {
   "cell_type": "code",
   "execution_count": 11,
   "metadata": {},
   "outputs": [
    {
     "data": {
      "image/png": "[encoded data removed]",
      "text/plain": [
       "<matplotlib.figure.Figure at 0x7fac6bf61978>"
      ]
     },
     "metadata": {},
     "output_type": "display_data"
    }
   ],
   "source": [
    "\n",
    "# The slices will be ordered and plotted counter-clockwise.\n",
    "#labels = 'l1', 'l2', 'l3', 'l4'\n",
    "explode=(0, 0.0, 0, 0)\n",
    "\n",
    "pie(probOfYesLabel, explode=explode, labels=label,\n",
    "                autopct='%1.1f%%', shadow=True, startangle=90)\n",
    "                # The default startangle is 0, which would start\n",
    "                # the Frogs slice on the x-axis.  With startangle=90,\n",
    "                # everything is rotated counter-clockwise by 90 degrees,\n",
    "                # so the plotting starts on the positive y-axis.\n",
    "\n",
    "show()\n"
   ]
  },
  {
   "cell_type": "code",
   "execution_count": null,
   "metadata": {
    "collapsed": true
   },
   "outputs": [],
   "source": []
  },
  {
   "cell_type": "code",
   "execution_count": null,
   "metadata": {
    "collapsed": true
   },
   "outputs": [],
   "source": []
  }
 ],
 "metadata": {
  "kernelspec": {
   "display_name": "Python 3",
   "language": "python",
   "name": "python3"
  },
  "language_info": {
   "codemirror_mode": {
    "name": "ipython",
    "version": 3
   },
   "file_extension": ".py",
   "mimetype": "text/x-python",
   "name": "python",
   "nbconvert_exporter": "python",
   "pygments_lexer": "ipython3",
   "version": "3.6.1"
  }
 },
 "nbformat": 4,
 "nbformat_minor": 2
}
